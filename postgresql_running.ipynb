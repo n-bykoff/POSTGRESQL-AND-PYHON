{
 "cells": [
  {
   "cell_type": "code",
   "execution_count": 1,
   "metadata": {},
   "outputs": [],
   "source": [
    "from psycopg2 import OperationalError\n",
    "import pandas as pd\n",
    "import psycopg2\n",
    "import os"
   ]
  },
  {
   "cell_type": "markdown",
   "metadata": {},
   "source": [
    "## Functions for interaction with PostgreSQL"
   ]
  },
  {
   "cell_type": "code",
   "execution_count": 2,
   "metadata": {},
   "outputs": [],
   "source": [
    "def create_connection(db_name, db_user, db_password, db_host, db_port):\n",
    "    \n",
    "    connection = None\n",
    "    try:\n",
    "        connection = psycopg2.connect(\n",
    "            database=db_name,\n",
    "            user=db_user,\n",
    "            password=db_password,\n",
    "            host=db_host,\n",
    "            port=db_port,\n",
    "        )\n",
    "        print(\"Connection to PostgreSQL DB successful\")\n",
    "        \n",
    "    except OperationalError as e:\n",
    "        print(f\"The error '{e}' occurred\")\n",
    "    \n",
    "    return connection"
   ]
  },
  {
   "cell_type": "code",
   "execution_count": 3,
   "metadata": {},
   "outputs": [],
   "source": [
    "def create_database(connection, query):\n",
    "    connection.autocommit = True\n",
    "    cursor = connection.cursor()\n",
    "    try:\n",
    "        cursor.execute(query)\n",
    "        print(\"Creating table query executed successfully\")\n",
    "    except OperationalError as e:\n",
    "        print(f\"The error '{e}' occurred\")"
   ]
  },
  {
   "cell_type": "code",
   "execution_count": 4,
   "metadata": {},
   "outputs": [],
   "source": [
    "def execute_query(connection, query):\n",
    "    connection.autocommit = True\n",
    "    cursor = connection.cursor()\n",
    "    try:\n",
    "        cursor.execute(query)\n",
    "        print(\"Query executed successfully\")\n",
    "    except OperationalError as e:\n",
    "        print(f\"The error '{e}' occurred\")"
   ]
  },
  {
   "cell_type": "code",
   "execution_count": 5,
   "metadata": {},
   "outputs": [],
   "source": [
    "def execute_read_query(connection, query):\n",
    "    cursor = connection.cursor()\n",
    "    result = None\n",
    "    try:\n",
    "        cursor.execute(query)\n",
    "        result = cursor.fetchall()\n",
    "        return result\n",
    "    except OperationalError as e:\n",
    "        print(f\"The error '{e}' occurred\")"
   ]
  },
  {
   "cell_type": "markdown",
   "metadata": {},
   "source": [
    "## Connect to PostgreSQL"
   ]
  },
  {
   "cell_type": "code",
   "execution_count": 6,
   "metadata": {},
   "outputs": [],
   "source": [
    "db_name = \"eppmjgdg\" \n",
    "db_user = \"eppmjgdg\"\n",
    "db_password = \"TPGnoBvXCNr3stnQviJ4R4050Fd2xUQ_\"\n",
    "db_host = \"hattie.db.elephantsql.com\"\n",
    "db_port = \"5432\""
   ]
  },
  {
   "cell_type": "code",
   "execution_count": 7,
   "metadata": {},
   "outputs": [
    {
     "name": "stdout",
     "output_type": "stream",
     "text": [
      "Connection to PostgreSQL DB successful\n"
     ]
    }
   ],
   "source": [
    "connection = create_connection(\n",
    "    db_name = db_name, \n",
    "    db_user = db_user, \n",
    "    db_password = db_password, \n",
    "    db_host = db_host, \n",
    "    db_port = db_port\n",
    ")"
   ]
  },
  {
   "cell_type": "markdown",
   "metadata": {},
   "source": [
    "## Functions for reading and cleaning tables"
   ]
  },
  {
   "cell_type": "code",
   "execution_count": 8,
   "metadata": {},
   "outputs": [],
   "source": [
    "def make_clear_data(table):\n",
    "    \n",
    "    for i in range(len(table)):\n",
    "        for column in list(table.columns)[2:]:\n",
    "            try:\n",
    "                float(table.loc[i, column])\n",
    "            except:\n",
    "                table = table.drop([i])\n",
    "                break\n",
    "                \n",
    "    for column in list(table.columns)[2:]:\n",
    "        table[column] = table[column].astype('float')\n",
    "    \n",
    "    table = table.reset_index()\n",
    "    table = table.drop(columns=['index'])\n",
    "    \n",
    "    return table"
   ]
  },
  {
   "cell_type": "code",
   "execution_count": 9,
   "metadata": {},
   "outputs": [],
   "source": [
    "def make_types_dict(table):\n",
    "    \n",
    "    types_dict = {}\n",
    "    types_dict['id'] = 'SERIAL'\n",
    "\n",
    "    for column in list(table.columns):\n",
    "\n",
    "        #print(f'{column}: {table[column].dtype}')\n",
    "\n",
    "        if table[column].dtype == 'float64':\n",
    "            column = column.replace(\"&\", \" and \").replace(\")\", \"\").replace(\"(\", \"\").replace(\".\", \"\").replace(\"/\", \"_\").replace(\"-\", \"\").replace(\" \", \"_\")\n",
    "            types_dict[column] = 'REAL'\n",
    "        elif table[column].dtype == 'object':\n",
    "            column = column.replace(\"&\", \" and \").replace(\")\", \"\").replace(\"(\", \"\").replace(\".\", \"\").replace(\"/\", \"_\").replace(\"-\", \"\").replace(\" \", \"_\")\n",
    "            types_dict[column] = 'TEXT'\n",
    "            \n",
    "    return types_dict"
   ]
  },
  {
   "cell_type": "code",
   "execution_count": 10,
   "metadata": {},
   "outputs": [],
   "source": [
    "def make_table_creating_query(types_dict, table_name):\n",
    "    create_table = f'CREATE TABLE {table_name}('\n",
    "\n",
    "    for i, column in enumerate(list(types_dict.keys())):\n",
    "        if i != len(list(types_dict.keys())) - 1:\n",
    "            if i == 0:\n",
    "                create_table += f'\\n  {column} {types_dict[column]} PRIMARY KEY,'\n",
    "            else:\n",
    "                create_table += f'\\n  {column} {types_dict[column]},'\n",
    "        else:\n",
    "            create_table += f'\\n  {column} {types_dict[column]}'\n",
    "\n",
    "    create_table += '\\n)'\n",
    "    \n",
    "    return create_table"
   ]
  },
  {
   "cell_type": "code",
   "execution_count": 11,
   "metadata": {},
   "outputs": [],
   "source": [
    "def make_rows(table):\n",
    "    rows = []\n",
    "\n",
    "    for i in range(len(table)):\n",
    "        rows.append(tuple(table.loc[i]))\n",
    "        \n",
    "    return rows"
   ]
  },
  {
   "cell_type": "code",
   "execution_count": 12,
   "metadata": {},
   "outputs": [],
   "source": [
    "def make_insert_query(connection, rows, table_name):\n",
    "    \n",
    "    rows_records = \", \".join([\"%s\"] * len(rows))\n",
    "\n",
    "    insert_query = (\n",
    "        f\"INSERT INTO {table_name} ({', '.join(list(types_dict.keys())[1:])}) VALUES {rows_records}\"\n",
    "    )\n",
    "\n",
    "    connection.autocommit = True\n",
    "    cursor = connection.cursor()\n",
    "    cursor.execute(insert_query, rows)\n",
    "    \n",
    "    print(\"Query executed successfully\")"
   ]
  },
  {
   "cell_type": "markdown",
   "metadata": {},
   "source": [
    "## Make tables on PostgreSQL"
   ]
  },
  {
   "cell_type": "code",
   "execution_count": 13,
   "metadata": {},
   "outputs": [
    {
     "data": {
      "text/plain": [
       "['quarterly_balance_sheet.xlsx',\n",
       " 'quarterly_cash_flow.xlsx',\n",
       " 'quarterly_income_statements.xlsx',\n",
       " 'yearly_balance_sheet.xlsx',\n",
       " 'yearly_cash_flow.xlsx',\n",
       " 'yearly_income_statements.xlsx']"
      ]
     },
     "execution_count": 13,
     "metadata": {},
     "output_type": "execute_result"
    }
   ],
   "source": [
    "path = './data/main tables/single tables/'\n",
    "files = list(os.walk(path))[0][2]\n",
    "files"
   ]
  },
  {
   "cell_type": "code",
   "execution_count": 14,
   "metadata": {},
   "outputs": [
    {
     "name": "stdout",
     "output_type": "stream",
     "text": [
      "Query executed successfully\n",
      "Query executed successfully\n",
      "Query executed successfully\n",
      "quarterly_balance_sheet - DONE!\n",
      "====================================================================================================\n",
      "Query executed successfully\n",
      "Query executed successfully\n",
      "Query executed successfully\n",
      "quarterly_cash_flow - DONE!\n",
      "====================================================================================================\n",
      "Query executed successfully\n",
      "Query executed successfully\n",
      "Query executed successfully\n",
      "quarterly_income_statements - DONE!\n",
      "====================================================================================================\n",
      "Query executed successfully\n",
      "Query executed successfully\n",
      "Query executed successfully\n",
      "yearly_balance_sheet - DONE!\n",
      "====================================================================================================\n",
      "Query executed successfully\n",
      "Query executed successfully\n",
      "Query executed successfully\n",
      "yearly_cash_flow - DONE!\n",
      "====================================================================================================\n",
      "Query executed successfully\n",
      "Query executed successfully\n"
     ]
    },
    {
     "ename": "KeyboardInterrupt",
     "evalue": "",
     "output_type": "error",
     "traceback": [
      "\u001b[1;31m---------------------------------------------------------------------------\u001b[0m",
      "\u001b[1;31mKeyboardInterrupt\u001b[0m                         Traceback (most recent call last)",
      "\u001b[1;32m<ipython-input-14-69ae3eacda2f>\u001b[0m in \u001b[0;36m<module>\u001b[1;34m\u001b[0m\n\u001b[0;32m     16\u001b[0m \u001b[1;33m\u001b[0m\u001b[0m\n\u001b[0;32m     17\u001b[0m     \u001b[0mmake_insert_query\u001b[0m\u001b[1;33m(\u001b[0m\u001b[0mconnection\u001b[0m\u001b[1;33m,\u001b[0m \u001b[0mrows\u001b[0m\u001b[1;33m[\u001b[0m\u001b[1;33m:\u001b[0m\u001b[0mind\u001b[0m\u001b[1;33m]\u001b[0m\u001b[1;33m,\u001b[0m \u001b[0mtable_name\u001b[0m\u001b[1;33m)\u001b[0m\u001b[1;33m\u001b[0m\u001b[1;33m\u001b[0m\u001b[0m\n\u001b[1;32m---> 18\u001b[1;33m     \u001b[0mmake_insert_query\u001b[0m\u001b[1;33m(\u001b[0m\u001b[0mconnection\u001b[0m\u001b[1;33m,\u001b[0m \u001b[0mrows\u001b[0m\u001b[1;33m[\u001b[0m\u001b[0mind\u001b[0m\u001b[1;33m:\u001b[0m\u001b[1;33m]\u001b[0m\u001b[1;33m,\u001b[0m \u001b[0mtable_name\u001b[0m\u001b[1;33m)\u001b[0m\u001b[1;33m\u001b[0m\u001b[1;33m\u001b[0m\u001b[0m\n\u001b[0m\u001b[0;32m     19\u001b[0m \u001b[1;33m\u001b[0m\u001b[0m\n\u001b[0;32m     20\u001b[0m     \u001b[0mprint\u001b[0m\u001b[1;33m(\u001b[0m\u001b[1;34mf'{file[:-5]} - DONE!'\u001b[0m\u001b[1;33m)\u001b[0m\u001b[1;33m\u001b[0m\u001b[1;33m\u001b[0m\u001b[0m\n",
      "\u001b[1;32m<ipython-input-12-513ff5082417>\u001b[0m in \u001b[0;36mmake_insert_query\u001b[1;34m(connection, rows, table_name)\u001b[0m\n\u001b[0;32m      9\u001b[0m     \u001b[0mconnection\u001b[0m\u001b[1;33m.\u001b[0m\u001b[0mautocommit\u001b[0m \u001b[1;33m=\u001b[0m \u001b[1;32mTrue\u001b[0m\u001b[1;33m\u001b[0m\u001b[1;33m\u001b[0m\u001b[0m\n\u001b[0;32m     10\u001b[0m     \u001b[0mcursor\u001b[0m \u001b[1;33m=\u001b[0m \u001b[0mconnection\u001b[0m\u001b[1;33m.\u001b[0m\u001b[0mcursor\u001b[0m\u001b[1;33m(\u001b[0m\u001b[1;33m)\u001b[0m\u001b[1;33m\u001b[0m\u001b[1;33m\u001b[0m\u001b[0m\n\u001b[1;32m---> 11\u001b[1;33m     \u001b[0mcursor\u001b[0m\u001b[1;33m.\u001b[0m\u001b[0mexecute\u001b[0m\u001b[1;33m(\u001b[0m\u001b[0minsert_query\u001b[0m\u001b[1;33m,\u001b[0m \u001b[0mrows\u001b[0m\u001b[1;33m)\u001b[0m\u001b[1;33m\u001b[0m\u001b[1;33m\u001b[0m\u001b[0m\n\u001b[0m\u001b[0;32m     12\u001b[0m \u001b[1;33m\u001b[0m\u001b[0m\n\u001b[0;32m     13\u001b[0m     \u001b[0mprint\u001b[0m\u001b[1;33m(\u001b[0m\u001b[1;34m\"Query executed successfully\"\u001b[0m\u001b[1;33m)\u001b[0m\u001b[1;33m\u001b[0m\u001b[1;33m\u001b[0m\u001b[0m\n",
      "\u001b[1;32mD:\\Programs\\anaconda-3\\lib\\encodings\\utf_8.py\u001b[0m in \u001b[0;36mdecode\u001b[1;34m(input, errors)\u001b[0m\n\u001b[0;32m     13\u001b[0m \u001b[0mencode\u001b[0m \u001b[1;33m=\u001b[0m \u001b[0mcodecs\u001b[0m\u001b[1;33m.\u001b[0m\u001b[0mutf_8_encode\u001b[0m\u001b[1;33m\u001b[0m\u001b[1;33m\u001b[0m\u001b[0m\n\u001b[0;32m     14\u001b[0m \u001b[1;33m\u001b[0m\u001b[0m\n\u001b[1;32m---> 15\u001b[1;33m \u001b[1;32mdef\u001b[0m \u001b[0mdecode\u001b[0m\u001b[1;33m(\u001b[0m\u001b[0minput\u001b[0m\u001b[1;33m,\u001b[0m \u001b[0merrors\u001b[0m\u001b[1;33m=\u001b[0m\u001b[1;34m'strict'\u001b[0m\u001b[1;33m)\u001b[0m\u001b[1;33m:\u001b[0m\u001b[1;33m\u001b[0m\u001b[1;33m\u001b[0m\u001b[0m\n\u001b[0m\u001b[0;32m     16\u001b[0m     \u001b[1;32mreturn\u001b[0m \u001b[0mcodecs\u001b[0m\u001b[1;33m.\u001b[0m\u001b[0mutf_8_decode\u001b[0m\u001b[1;33m(\u001b[0m\u001b[0minput\u001b[0m\u001b[1;33m,\u001b[0m \u001b[0merrors\u001b[0m\u001b[1;33m,\u001b[0m \u001b[1;32mTrue\u001b[0m\u001b[1;33m)\u001b[0m\u001b[1;33m\u001b[0m\u001b[1;33m\u001b[0m\u001b[0m\n\u001b[0;32m     17\u001b[0m \u001b[1;33m\u001b[0m\u001b[0m\n",
      "\u001b[1;31mKeyboardInterrupt\u001b[0m: "
     ]
    }
   ],
   "source": [
    "for file in files:\n",
    "    \n",
    "    table = pd.read_excel(f'{path}{file}')\n",
    "    table = table.drop(columns=['Unnamed: 0'])\n",
    "    \n",
    "    table_name = file[:-5]\n",
    "    \n",
    "    table = make_clear_data(table)\n",
    "    types_dict = make_types_dict(table)\n",
    "    \n",
    "    creating_table_query = make_table_creating_query(types_dict, table_name)\n",
    "    execute_query(connection, creating_table_query)\n",
    "    \n",
    "    rows = make_rows(table)\n",
    "    ind = len(rows) // 2\n",
    "    \n",
    "    make_insert_query(connection, rows[:ind], table_name)\n",
    "    make_insert_query(connection, rows[ind:], table_name)\n",
    "    \n",
    "    print(f'{file[:-5]} - DONE!')\n",
    "    print('=' * 100)"
   ]
  },
  {
   "cell_type": "code",
   "execution_count": null,
   "metadata": {},
   "outputs": [],
   "source": []
  }
 ],
 "metadata": {
  "kernelspec": {
   "display_name": "Python 3",
   "language": "python",
   "name": "python3"
  },
  "language_info": {
   "codemirror_mode": {
    "name": "ipython",
    "version": 3
   },
   "file_extension": ".py",
   "mimetype": "text/x-python",
   "name": "python",
   "nbconvert_exporter": "python",
   "pygments_lexer": "ipython3",
   "version": "3.7.6"
  }
 },
 "nbformat": 4,
 "nbformat_minor": 4
}
